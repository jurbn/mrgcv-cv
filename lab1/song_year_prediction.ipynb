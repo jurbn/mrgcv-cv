{
  "cells": [
    {
      "cell_type": "code",
      "execution_count": 22,
      "metadata": {
        "id": "cwJvYqvtofqs"
      },
      "outputs": [],
      "source": [
        "import numpy as np\n",
        "import matplotlib.pyplot as plt"
      ]
    },
    {
      "cell_type": "markdown",
      "metadata": {
        "id": "l57plKvTRY4w"
      },
      "source": [
        "## Datset tasks"
      ]
    },
    {
      "cell_type": "markdown",
      "metadata": {
        "id": "yeiMtVXnRdJA"
      },
      "source": [
        "### Load the dataset"
      ]
    },
    {
      "cell_type": "markdown",
      "metadata": {
        "id": "6PelRjGYRluM"
      },
      "source": [
        "Download the data csv file from [this link](https://drive.google.com/file/d/1QLvpwOV9VJL98BBSYSe1TYUuIxw7i9kH). Read about the dataset [here](https://samyzaf.com/ML/song_year/song_year.html) (we will use a reduced version of the dataset)."
      ]
    },
    {
      "cell_type": "markdown",
      "metadata": {
        "id": "Mvb0SLAzSQ98"
      },
      "source": [
        "#### Downloading the dataset"
      ]
    },
    {
      "cell_type": "code",
      "execution_count": 23,
      "metadata": {
        "colab": {
          "base_uri": "https://localhost:8080/"
        },
        "id": "JZPRr8eHRXnj",
        "outputId": "9e2d36b0-d059-43bf-f35f-7b21a9fe3427"
      },
      "outputs": [],
      "source": [
        "# from google.colab import drive\n",
        "# drive.mount('/content/drive')"
      ]
    },
    {
      "cell_type": "code",
      "execution_count": 24,
      "metadata": {
        "id": "s7s030W5ST95"
      },
      "outputs": [],
      "source": [
        "# path_to_csv = '/content/drive/MyDrive/Universidad/robocosas/ml/lab1/YearPredictionMSD.csv'\n",
        "path_to_csv = 'YearPredictionMSD.csv'"
      ]
    },
    {
      "cell_type": "code",
      "execution_count": 25,
      "metadata": {
        "id": "8u2z60qvQO2r"
      },
      "outputs": [],
      "source": [
        "import pandas as pd\n",
        "# Load the data from the file\n",
        "data = pd.read_csv(path_to_csv)\n",
        "# we shuffle the data\n",
        "data = data.sample(frac=1.0, random_state = 0).reset_index(drop = True)"
      ]
    },
    {
      "cell_type": "markdown",
      "metadata": {
        "id": "hUtOByJZpOyO"
      },
      "source": [
        "#### Normalize the data"
      ]
    },
    {
      "cell_type": "code",
      "execution_count": 26,
      "metadata": {
        "id": "aL-QYvklpLa5"
      },
      "outputs": [],
      "source": [
        "cols = data.columns.difference(['0'])\n",
        "# normalize only selected columns\n",
        "data[cols] = (data[cols]-data[cols].min())/(data[cols].max()-data[cols].min())"
      ]
    },
    {
      "cell_type": "code",
      "execution_count": 27,
      "metadata": {
        "colab": {
          "base_uri": "https://localhost:8080/",
          "height": 444
        },
        "id": "faN6wSfJVqx4",
        "outputId": "d4ead2c5-5f11-46fe-b28c-918f50bf0216"
      },
      "outputs": [
        {
          "data": {
            "text/html": [
              "<div>\n",
              "<style scoped>\n",
              "    .dataframe tbody tr th:only-of-type {\n",
              "        vertical-align: middle;\n",
              "    }\n",
              "\n",
              "    .dataframe tbody tr th {\n",
              "        vertical-align: top;\n",
              "    }\n",
              "\n",
              "    .dataframe thead th {\n",
              "        text-align: right;\n",
              "    }\n",
              "</style>\n",
              "<table border=\"1\" class=\"dataframe\">\n",
              "  <thead>\n",
              "    <tr style=\"text-align: right;\">\n",
              "      <th></th>\n",
              "      <th>0</th>\n",
              "      <th>1</th>\n",
              "      <th>2</th>\n",
              "      <th>3</th>\n",
              "      <th>4</th>\n",
              "      <th>5</th>\n",
              "      <th>6</th>\n",
              "      <th>7</th>\n",
              "      <th>8</th>\n",
              "      <th>9</th>\n",
              "      <th>...</th>\n",
              "      <th>81</th>\n",
              "      <th>82</th>\n",
              "      <th>83</th>\n",
              "      <th>84</th>\n",
              "      <th>85</th>\n",
              "      <th>86</th>\n",
              "      <th>87</th>\n",
              "      <th>88</th>\n",
              "      <th>89</th>\n",
              "      <th>90</th>\n",
              "    </tr>\n",
              "  </thead>\n",
              "  <tbody>\n",
              "    <tr>\n",
              "      <th>0</th>\n",
              "      <td>2006</td>\n",
              "      <td>0.615036</td>\n",
              "      <td>0.391858</td>\n",
              "      <td>0.411534</td>\n",
              "      <td>0.408236</td>\n",
              "      <td>0.301982</td>\n",
              "      <td>0.333017</td>\n",
              "      <td>0.567195</td>\n",
              "      <td>0.378089</td>\n",
              "      <td>0.564376</td>\n",
              "      <td>...</td>\n",
              "      <td>0.438279</td>\n",
              "      <td>0.554983</td>\n",
              "      <td>0.290990</td>\n",
              "      <td>0.474257</td>\n",
              "      <td>0.451836</td>\n",
              "      <td>0.680394</td>\n",
              "      <td>0.513661</td>\n",
              "      <td>0.497179</td>\n",
              "      <td>0.546954</td>\n",
              "      <td>0.455799</td>\n",
              "    </tr>\n",
              "    <tr>\n",
              "      <th>1</th>\n",
              "      <td>1987</td>\n",
              "      <td>0.737415</td>\n",
              "      <td>0.386847</td>\n",
              "      <td>0.546292</td>\n",
              "      <td>0.445003</td>\n",
              "      <td>0.378160</td>\n",
              "      <td>0.303599</td>\n",
              "      <td>0.542302</td>\n",
              "      <td>0.336871</td>\n",
              "      <td>0.622867</td>\n",
              "      <td>...</td>\n",
              "      <td>0.414847</td>\n",
              "      <td>0.547103</td>\n",
              "      <td>0.335404</td>\n",
              "      <td>0.476707</td>\n",
              "      <td>0.516178</td>\n",
              "      <td>0.679153</td>\n",
              "      <td>0.531905</td>\n",
              "      <td>0.500645</td>\n",
              "      <td>0.547860</td>\n",
              "      <td>0.469891</td>\n",
              "    </tr>\n",
              "    <tr>\n",
              "      <th>2</th>\n",
              "      <td>1963</td>\n",
              "      <td>0.702921</td>\n",
              "      <td>0.396784</td>\n",
              "      <td>0.563589</td>\n",
              "      <td>0.426636</td>\n",
              "      <td>0.173114</td>\n",
              "      <td>0.323771</td>\n",
              "      <td>0.511341</td>\n",
              "      <td>0.372964</td>\n",
              "      <td>0.660235</td>\n",
              "      <td>...</td>\n",
              "      <td>0.421968</td>\n",
              "      <td>0.691986</td>\n",
              "      <td>0.350531</td>\n",
              "      <td>0.495068</td>\n",
              "      <td>0.572462</td>\n",
              "      <td>0.702980</td>\n",
              "      <td>0.521432</td>\n",
              "      <td>0.543080</td>\n",
              "      <td>0.544091</td>\n",
              "      <td>0.483278</td>\n",
              "    </tr>\n",
              "    <tr>\n",
              "      <th>3</th>\n",
              "      <td>2006</td>\n",
              "      <td>0.801228</td>\n",
              "      <td>0.517800</td>\n",
              "      <td>0.451835</td>\n",
              "      <td>0.360711</td>\n",
              "      <td>0.284651</td>\n",
              "      <td>0.302908</td>\n",
              "      <td>0.571447</td>\n",
              "      <td>0.390017</td>\n",
              "      <td>0.546920</td>\n",
              "      <td>...</td>\n",
              "      <td>0.427393</td>\n",
              "      <td>0.538326</td>\n",
              "      <td>0.321987</td>\n",
              "      <td>0.495367</td>\n",
              "      <td>0.502220</td>\n",
              "      <td>0.667674</td>\n",
              "      <td>0.510310</td>\n",
              "      <td>0.514190</td>\n",
              "      <td>0.554395</td>\n",
              "      <td>0.456039</td>\n",
              "    </tr>\n",
              "    <tr>\n",
              "      <th>4</th>\n",
              "      <td>2009</td>\n",
              "      <td>0.856466</td>\n",
              "      <td>0.455807</td>\n",
              "      <td>0.547046</td>\n",
              "      <td>0.448812</td>\n",
              "      <td>0.295679</td>\n",
              "      <td>0.264328</td>\n",
              "      <td>0.570042</td>\n",
              "      <td>0.362260</td>\n",
              "      <td>0.604327</td>\n",
              "      <td>...</td>\n",
              "      <td>0.433720</td>\n",
              "      <td>0.574009</td>\n",
              "      <td>0.307350</td>\n",
              "      <td>0.490673</td>\n",
              "      <td>0.527519</td>\n",
              "      <td>0.664875</td>\n",
              "      <td>0.486473</td>\n",
              "      <td>0.518336</td>\n",
              "      <td>0.543523</td>\n",
              "      <td>0.438555</td>\n",
              "    </tr>\n",
              "    <tr>\n",
              "      <th>...</th>\n",
              "      <td>...</td>\n",
              "      <td>...</td>\n",
              "      <td>...</td>\n",
              "      <td>...</td>\n",
              "      <td>...</td>\n",
              "      <td>...</td>\n",
              "      <td>...</td>\n",
              "      <td>...</td>\n",
              "      <td>...</td>\n",
              "      <td>...</td>\n",
              "      <td>...</td>\n",
              "      <td>...</td>\n",
              "      <td>...</td>\n",
              "      <td>...</td>\n",
              "      <td>...</td>\n",
              "      <td>...</td>\n",
              "      <td>...</td>\n",
              "      <td>...</td>\n",
              "      <td>...</td>\n",
              "      <td>...</td>\n",
              "      <td>...</td>\n",
              "    </tr>\n",
              "    <tr>\n",
              "      <th>49995</th>\n",
              "      <td>2004</td>\n",
              "      <td>0.781147</td>\n",
              "      <td>0.441660</td>\n",
              "      <td>0.408978</td>\n",
              "      <td>0.492676</td>\n",
              "      <td>0.346120</td>\n",
              "      <td>0.237380</td>\n",
              "      <td>0.610857</td>\n",
              "      <td>0.287851</td>\n",
              "      <td>0.656942</td>\n",
              "      <td>...</td>\n",
              "      <td>0.462552</td>\n",
              "      <td>0.583276</td>\n",
              "      <td>0.397730</td>\n",
              "      <td>0.505798</td>\n",
              "      <td>0.542989</td>\n",
              "      <td>0.608800</td>\n",
              "      <td>0.584717</td>\n",
              "      <td>0.498967</td>\n",
              "      <td>0.528551</td>\n",
              "      <td>0.464636</td>\n",
              "    </tr>\n",
              "    <tr>\n",
              "      <th>49996</th>\n",
              "      <td>1989</td>\n",
              "      <td>0.762910</td>\n",
              "      <td>0.440276</td>\n",
              "      <td>0.527015</td>\n",
              "      <td>0.385715</td>\n",
              "      <td>0.263294</td>\n",
              "      <td>0.273469</td>\n",
              "      <td>0.554453</td>\n",
              "      <td>0.369435</td>\n",
              "      <td>0.541303</td>\n",
              "      <td>...</td>\n",
              "      <td>0.425038</td>\n",
              "      <td>0.554098</td>\n",
              "      <td>0.343037</td>\n",
              "      <td>0.465451</td>\n",
              "      <td>0.512820</td>\n",
              "      <td>0.664295</td>\n",
              "      <td>0.546303</td>\n",
              "      <td>0.525478</td>\n",
              "      <td>0.553199</td>\n",
              "      <td>0.520947</td>\n",
              "    </tr>\n",
              "    <tr>\n",
              "      <th>49997</th>\n",
              "      <td>2002</td>\n",
              "      <td>0.868387</td>\n",
              "      <td>0.582434</td>\n",
              "      <td>0.549178</td>\n",
              "      <td>0.422410</td>\n",
              "      <td>0.198680</td>\n",
              "      <td>0.209186</td>\n",
              "      <td>0.643144</td>\n",
              "      <td>0.421435</td>\n",
              "      <td>0.674112</td>\n",
              "      <td>...</td>\n",
              "      <td>0.426244</td>\n",
              "      <td>0.581425</td>\n",
              "      <td>0.323985</td>\n",
              "      <td>0.492759</td>\n",
              "      <td>0.517017</td>\n",
              "      <td>0.664836</td>\n",
              "      <td>0.511781</td>\n",
              "      <td>0.511355</td>\n",
              "      <td>0.545338</td>\n",
              "      <td>0.453306</td>\n",
              "    </tr>\n",
              "    <tr>\n",
              "      <th>49998</th>\n",
              "      <td>2006</td>\n",
              "      <td>0.815856</td>\n",
              "      <td>0.438208</td>\n",
              "      <td>0.574267</td>\n",
              "      <td>0.420185</td>\n",
              "      <td>0.266862</td>\n",
              "      <td>0.222682</td>\n",
              "      <td>0.599449</td>\n",
              "      <td>0.407267</td>\n",
              "      <td>0.607967</td>\n",
              "      <td>...</td>\n",
              "      <td>0.483023</td>\n",
              "      <td>0.570257</td>\n",
              "      <td>0.310659</td>\n",
              "      <td>0.477884</td>\n",
              "      <td>0.511646</td>\n",
              "      <td>0.656984</td>\n",
              "      <td>0.511468</td>\n",
              "      <td>0.505375</td>\n",
              "      <td>0.539339</td>\n",
              "      <td>0.475712</td>\n",
              "    </tr>\n",
              "    <tr>\n",
              "      <th>49999</th>\n",
              "      <td>1992</td>\n",
              "      <td>0.627346</td>\n",
              "      <td>0.465489</td>\n",
              "      <td>0.522145</td>\n",
              "      <td>0.431800</td>\n",
              "      <td>0.337055</td>\n",
              "      <td>0.280591</td>\n",
              "      <td>0.590553</td>\n",
              "      <td>0.356197</td>\n",
              "      <td>0.582872</td>\n",
              "      <td>...</td>\n",
              "      <td>0.443904</td>\n",
              "      <td>0.546061</td>\n",
              "      <td>0.311500</td>\n",
              "      <td>0.513097</td>\n",
              "      <td>0.516454</td>\n",
              "      <td>0.681283</td>\n",
              "      <td>0.549998</td>\n",
              "      <td>0.492658</td>\n",
              "      <td>0.564064</td>\n",
              "      <td>0.481869</td>\n",
              "    </tr>\n",
              "  </tbody>\n",
              "</table>\n",
              "<p>50000 rows × 91 columns</p>\n",
              "</div>"
            ],
            "text/plain": [
              "          0         1         2         3         4         5         6  \\\n",
              "0      2006  0.615036  0.391858  0.411534  0.408236  0.301982  0.333017   \n",
              "1      1987  0.737415  0.386847  0.546292  0.445003  0.378160  0.303599   \n",
              "2      1963  0.702921  0.396784  0.563589  0.426636  0.173114  0.323771   \n",
              "3      2006  0.801228  0.517800  0.451835  0.360711  0.284651  0.302908   \n",
              "4      2009  0.856466  0.455807  0.547046  0.448812  0.295679  0.264328   \n",
              "...     ...       ...       ...       ...       ...       ...       ...   \n",
              "49995  2004  0.781147  0.441660  0.408978  0.492676  0.346120  0.237380   \n",
              "49996  1989  0.762910  0.440276  0.527015  0.385715  0.263294  0.273469   \n",
              "49997  2002  0.868387  0.582434  0.549178  0.422410  0.198680  0.209186   \n",
              "49998  2006  0.815856  0.438208  0.574267  0.420185  0.266862  0.222682   \n",
              "49999  1992  0.627346  0.465489  0.522145  0.431800  0.337055  0.280591   \n",
              "\n",
              "              7         8         9  ...        81        82        83  \\\n",
              "0      0.567195  0.378089  0.564376  ...  0.438279  0.554983  0.290990   \n",
              "1      0.542302  0.336871  0.622867  ...  0.414847  0.547103  0.335404   \n",
              "2      0.511341  0.372964  0.660235  ...  0.421968  0.691986  0.350531   \n",
              "3      0.571447  0.390017  0.546920  ...  0.427393  0.538326  0.321987   \n",
              "4      0.570042  0.362260  0.604327  ...  0.433720  0.574009  0.307350   \n",
              "...         ...       ...       ...  ...       ...       ...       ...   \n",
              "49995  0.610857  0.287851  0.656942  ...  0.462552  0.583276  0.397730   \n",
              "49996  0.554453  0.369435  0.541303  ...  0.425038  0.554098  0.343037   \n",
              "49997  0.643144  0.421435  0.674112  ...  0.426244  0.581425  0.323985   \n",
              "49998  0.599449  0.407267  0.607967  ...  0.483023  0.570257  0.310659   \n",
              "49999  0.590553  0.356197  0.582872  ...  0.443904  0.546061  0.311500   \n",
              "\n",
              "             84        85        86        87        88        89        90  \n",
              "0      0.474257  0.451836  0.680394  0.513661  0.497179  0.546954  0.455799  \n",
              "1      0.476707  0.516178  0.679153  0.531905  0.500645  0.547860  0.469891  \n",
              "2      0.495068  0.572462  0.702980  0.521432  0.543080  0.544091  0.483278  \n",
              "3      0.495367  0.502220  0.667674  0.510310  0.514190  0.554395  0.456039  \n",
              "4      0.490673  0.527519  0.664875  0.486473  0.518336  0.543523  0.438555  \n",
              "...         ...       ...       ...       ...       ...       ...       ...  \n",
              "49995  0.505798  0.542989  0.608800  0.584717  0.498967  0.528551  0.464636  \n",
              "49996  0.465451  0.512820  0.664295  0.546303  0.525478  0.553199  0.520947  \n",
              "49997  0.492759  0.517017  0.664836  0.511781  0.511355  0.545338  0.453306  \n",
              "49998  0.477884  0.511646  0.656984  0.511468  0.505375  0.539339  0.475712  \n",
              "49999  0.513097  0.516454  0.681283  0.549998  0.492658  0.564064  0.481869  \n",
              "\n",
              "[50000 rows x 91 columns]"
            ]
          },
          "execution_count": 27,
          "metadata": {},
          "output_type": "execute_result"
        }
      ],
      "source": [
        "data"
      ]
    },
    {
      "cell_type": "markdown",
      "metadata": {
        "id": "25EE7DSLXhCN"
      },
      "source": [
        "### Analyze the dataset"
      ]
    },
    {
      "cell_type": "markdown",
      "metadata": {
        "id": "WYkdhvIvZKZZ"
      },
      "source": [
        "#### Distribution report"
      ]
    },
    {
      "cell_type": "markdown",
      "metadata": {
        "id": "x7luKgEyZkwG"
      },
      "source": [
        "As we can see, the dataset doesn't have a great distribution of songs over the years. This isn't necessarily problematic, but can lead to biases in the classification."
      ]
    },
    {
      "cell_type": "code",
      "execution_count": 28,
      "metadata": {
        "colab": {
          "base_uri": "https://localhost:8080/",
          "height": 447
        },
        "id": "C-r4giueY0qI",
        "outputId": "3de42732-0f37-4b09-f713-88c0a5ac3ed0"
      },
      "outputs": [
        {
          "data": {
            "text/plain": [
              "<Axes: >"
            ]
          },
          "execution_count": 28,
          "metadata": {},
          "output_type": "execute_result"
        },
        {
          "data": {
            "image/png": "[encoded data removed]",
            "text/plain": [
              "<Figure size 640x480 with 1 Axes>"
            ]
          },
          "metadata": {},
          "output_type": "display_data"
        }
      ],
      "source": [
        "data['0'].hist()"
      ]
    },
    {
      "cell_type": "markdown",
      "metadata": {
        "id": "RJSh7GXtdyRq"
      },
      "source": [
        "### Correlation report"
      ]
    },
    {
      "cell_type": "markdown",
      "metadata": {
        "id": "v7wP2RJtdvuW"
      },
      "source": [
        "We can print the correlations between each feature with the others."
      ]
    },
    {
      "cell_type": "code",
      "execution_count": 29,
      "metadata": {
        "colab": {
          "base_uri": "https://localhost:8080/",
          "height": 437
        },
        "id": "WGulBiJOdugX",
        "outputId": "f54b7b77-4bb8-4bc3-9d48-01b60ff69270"
      },
      "outputs": [
        {
          "data": {
            "image/png": "[encoded data removed]",
            "text/plain": [
              "<Figure size 480x480 with 1 Axes>"
            ]
          },
          "metadata": {},
          "output_type": "display_data"
        }
      ],
      "source": [
        "plt.matshow(data.corr())\n",
        "plt.show()"
      ]
    },
    {
      "cell_type": "markdown",
      "metadata": {
        "id": "1unfxdZNabBQ"
      },
      "source": [
        "This doesn't add much to our understanding of the dataset, so let's see what is the correlation between the output (year) and the rest of the inputs (features)."
      ]
    },
    {
      "cell_type": "code",
      "execution_count": 30,
      "metadata": {
        "colab": {
          "base_uri": "https://localhost:8080/",
          "height": 447
        },
        "id": "16n8N0GVag86",
        "outputId": "16728d86-b7d6-46f8-c76b-361110f0ffca"
      },
      "outputs": [
        {
          "data": {
            "text/plain": [
              "<matplotlib.collections.PathCollection at 0x1ab681a7050>"
            ]
          },
          "execution_count": 30,
          "metadata": {},
          "output_type": "execute_result"
        },
        {
          "data": {
            "image/png": "[encoded data removed]",
            "text/plain": [
              "<Figure size 640x480 with 1 Axes>"
            ]
          },
          "metadata": {},
          "output_type": "display_data"
        }
      ],
      "source": [
        "plt.scatter(y=data.corr()['0'], x=data.columns)"
      ]
    },
    {
      "cell_type": "markdown",
      "metadata": {
        "id": "378PYTQQvo3O"
      },
      "source": [
        "As we can see, most of the features present on the dataset have from little to none correlation with the release year of the song."
      ]
    },
    {
      "cell_type": "markdown",
      "metadata": {
        "id": "PmK8YCSAWMvs"
      },
      "source": [
        "### Splitting the data"
      ]
    },
    {
      "cell_type": "markdown",
      "metadata": {
        "id": "FKP8WzI_Y8OZ"
      },
      "source": [
        "We split the data into train, validation and test."
      ]
    },
    {
      "cell_type": "code",
      "execution_count": 31,
      "metadata": {
        "id": "KdieknSSXHJ4"
      },
      "outputs": [],
      "source": [
        "from sklearn.model_selection import train_test_split"
      ]
    },
    {
      "cell_type": "code",
      "execution_count": 32,
      "metadata": {
        "id": "-jBhQWUluAbZ"
      },
      "outputs": [],
      "source": [
        "X = data.to_numpy()[:,1:]\n",
        "y = data.to_numpy()[:,0]"
      ]
    },
    {
      "cell_type": "code",
      "execution_count": 33,
      "metadata": {
        "id": "puwo25F8WP4L"
      },
      "outputs": [],
      "source": [
        "# Split into (train+val) and (test) from the og dataset with 0.1 ratio\n",
        "X_train_and_val, X_test, y_train_and_val, y_test = train_test_split(X, y, test_size = 0.1, random_state=2)\n",
        "# Split into (train) and (val) from the (train+val) dataset with 0.1 ratio\n",
        "X_train, X_val, y_train, y_val = train_test_split(X_train_and_val, y_train_and_val, test_size = 0.1, random_state=2)"
      ]
    },
    {
      "cell_type": "markdown",
      "metadata": {
        "id": "dyZaF0ziXmc7"
      },
      "source": [
        "#### Sizes report"
      ]
    },
    {
      "cell_type": "code",
      "execution_count": 34,
      "metadata": {
        "colab": {
          "base_uri": "https://localhost:8080/"
        },
        "id": "n1LmoUTXWycy",
        "outputId": "12373f3f-7f7e-4a8c-e47e-edcd9d34215b"
      },
      "outputs": [
        {
          "name": "stdout",
          "output_type": "stream",
          "text": [
            "The size of the total dataset is 50000\n",
            "The size of the training dataset is 40500\n",
            "The size of the validation dataset is 4500\n",
            "The size of the test dataset is 5000\n",
            "There is a total of 90 features\n"
          ]
        }
      ],
      "source": [
        "print(f'The size of the total dataset is {X.shape[0]}')\n",
        "print(f'The size of the training dataset is {X_train.shape[0]}')\n",
        "print(f'The size of the validation dataset is {X_val.shape[0]}')\n",
        "print(f'The size of the test dataset is {X_test.shape[0]}')\n",
        "print(f'There is a total of {X.shape[1]} features')"
      ]
    },
    {
      "cell_type": "markdown",
      "metadata": {
        "id": "i-HAmHYnfAUv"
      },
      "source": [
        "## Training different models"
      ]
    },
    {
      "cell_type": "markdown",
      "metadata": {},
      "source": [
        "We'll train different models and compare their performance based on the following metrics:\n",
        "- Mean Absolute Error (MAE): the average absolute difference between the predicted and the actual values.\n",
        "- Mean Squared Error (MSE): the average squared difference between the predicted and the actual values.\n",
        "- Median Absolute Error (MedAE): the median of the absolute difference between the predicted and the actual values.\n",
        "\n",
        "This will give us a good idea of how well the model is performing by giving us a general idea of the error (we want all these values to be as low as possible)."
      ]
    },
    {
      "cell_type": "markdown",
      "metadata": {},
      "source": [
        "### Linear models"
      ]
    },
    {
      "cell_type": "markdown",
      "metadata": {
        "id": "mjm3dgm5fbzz"
      },
      "source": [
        "#### Linear regression"
      ]
    },
    {
      "cell_type": "code",
      "execution_count": 35,
      "metadata": {
        "colab": {
          "base_uri": "https://localhost:8080/"
        },
        "id": "9lteQJWtfE6g",
        "outputId": "653b2a83-e531-4e4f-aee7-d044df7f5bf7"
      },
      "outputs": [
        {
          "name": "stdout",
          "output_type": "stream",
          "text": [
            "MSE Linear Regression, validation set:  90.55269051397096\n",
            "MAE Linear Regression, validation set:  6.721928001948276\n",
            "MedAE Linear Regression, validation set:  4.859420441814677\n"
          ]
        }
      ],
      "source": [
        "from sklearn import linear_model\n",
        "from sklearn.metrics import mean_squared_error, explained_variance_score, r2_score, median_absolute_error, mean_absolute_error\n",
        "\n",
        "# Fit a linear regression model\n",
        "lr = linear_model.LinearRegression()\n",
        "lr.fit(X_train,y_train)\n",
        "\n",
        "# Predict outputs for the validation set\n",
        "y_val_pred = lr.predict(X_val)\n",
        "\n",
        "# Report metrics in the validation set\n",
        "mse = mean_squared_error(y_val, y_val_pred)\n",
        "mae = mean_absolute_error(y_val, y_val_pred)\n",
        "medae = median_absolute_error(y_val, y_val_pred)\n",
        "print('MSE Linear Regression, validation set: ', mse)\n",
        "print('MAE Linear Regression, validation set: ', mae)\n",
        "print('MedAE Linear Regression, validation set: ', medae)"
      ]
    },
    {
      "cell_type": "markdown",
      "metadata": {},
      "source": [
        "As we can see, the linear regression model performs poorly on the dataset with all the metrics being very high."
      ]
    },
    {
      "cell_type": "markdown",
      "metadata": {
        "id": "o9WR5o11jyPe"
      },
      "source": [
        "#### Huber"
      ]
    },
    {
      "cell_type": "markdown",
      "metadata": {},
      "source": [
        "Huber is a linear regression model that is robust to outliers. It combines the best properties of the least squares and least absolute deviation loss functions by being strongly convex when close to the target/minimum and less steep for extreme values."
      ]
    },
    {
      "cell_type": "code",
      "execution_count": 36,
      "metadata": {
        "colab": {
          "base_uri": "https://localhost:8080/"
        },
        "id": "MeAdqwtakEHC",
        "outputId": "9ceb81a4-c9da-4103-f672-0b821a68b87e"
      },
      "outputs": [
        {
          "name": "stdout",
          "output_type": "stream",
          "text": [
            "MSE Huber, validation set:  95.07245850714267\n",
            "MAE Huber, validation set:  6.44899675177285\n",
            "MedAE Huber, validation set:  4.250038583397327\n"
          ]
        }
      ],
      "source": [
        "# Fit a Huber regression model\n",
        "huber = linear_model.HuberRegressor(max_iter=1000)\n",
        "huber.fit(X_train,y_train)\n",
        "\n",
        "# Predict outputs for the validation set\n",
        "y_val_pred = huber.predict(X_val)\n",
        "\n",
        "# Report metrics in the validation set\n",
        "mse = mean_squared_error(y_val, y_val_pred)\n",
        "mae = mean_absolute_error(y_val, y_val_pred)\n",
        "medae = median_absolute_error(y_val, y_val_pred)\n",
        "print('MSE Huber, validation set: ', mse)\n",
        "print('MAE Huber, validation set: ', mae)\n",
        "print('MedAE Huber, validation set: ', medae)"
      ]
    },
    {
      "cell_type": "markdown",
      "metadata": {
        "id": "7wR45EEJkTtp"
      },
      "source": [
        "#### RANSAC"
      ]
    },
    {
      "cell_type": "markdown",
      "metadata": {},
      "source": [
        "Using RANSAC we can fit a regression model to a data set that contains outliers. It works by iteratively selecting random samples from the original data and checking if they fit the model. The samples that fit the model are then used to train the final model."
      ]
    },
    {
      "cell_type": "code",
      "execution_count": 37,
      "metadata": {
        "colab": {
          "base_uri": "https://localhost:8080/"
        },
        "id": "h-Vimp1AkVgx",
        "outputId": "d50ef78a-3e25-4694-8a36-851ee9d2f93c"
      },
      "outputs": [
        {
          "name": "stdout",
          "output_type": "stream",
          "text": [
            "MSE RANSAC, validation set:  2350.4769701953765\n",
            "MAE RANSAC, validation set:  33.670550436661294\n",
            "MedAE RANSAC, validation set:  24.063283133975347\n"
          ]
        }
      ],
      "source": [
        "# Fit a RANSAC regression model\n",
        "ransac = linear_model.RANSACRegressor()\n",
        "ransac.fit(X_train,y_train)\n",
        "\n",
        "# Predict outputs for the validation set\n",
        "y_val_pred = ransac.predict(X_val)\n",
        "\n",
        "# Report metrics in the validation set\n",
        "mse = mean_squared_error(y_val, y_val_pred)\n",
        "mae = mean_absolute_error(y_val, y_val_pred)\n",
        "medae = median_absolute_error(y_val, y_val_pred)\n",
        "print('MSE RANSAC, validation set: ', mse)\n",
        "print('MAE RANSAC, validation set: ', mae)\n",
        "print('MedAE RANSAC, validation set: ', medae)"
      ]
    },
    {
      "cell_type": "markdown",
      "metadata": {
        "id": "RC7TruRulGLB"
      },
      "source": [
        "#### Ridge"
      ]
    },
    {
      "cell_type": "markdown",
      "metadata": {},
      "source": [
        "Ridge regression is a linear regression model that uses L2 regularization to prevent overfitting. It works by adding a penalty term to the loss function that is proportional to the sum of the squared value of the coefficients."
      ]
    },
    {
      "cell_type": "code",
      "execution_count": 17,
      "metadata": {
        "colab": {
          "base_uri": "https://localhost:8080/"
        },
        "id": "QgvC8Ujdrg6w",
        "outputId": "6dc8a045-7056-4f6a-c62a-effca48a2202"
      },
      "outputs": [
        {
          "name": "stdout",
          "output_type": "stream",
          "text": [
            "MSE Linear Regression, validation set:  90.56311671116997\n",
            "MAE Linear Regression, validation set:  6.720179026998471\n",
            "MedAE Linear Regression, validation set:  4.866853015491188\n"
          ]
        }
      ],
      "source": [
        "# Fit a Ridge regression model\n",
        "ridge = linear_model.Ridge()\n",
        "ridge.fit(X_train,y_train)\n",
        "\n",
        "# Predict outputs for the validation set\n",
        "y_val_pred = ridge.predict(X_val)\n",
        "\n",
        "# Report metrics in the validation set\n",
        "mse = mean_squared_error(y_val, y_val_pred)\n",
        "mae = mean_absolute_error(y_val, y_val_pred)\n",
        "medae = median_absolute_error(y_val, y_val_pred)\n",
        "print('MSE Linear Regression, validation set: ', mse)\n",
        "print('MAE Linear Regression, validation set: ', mae)\n",
        "print('MedAE Linear Regression, validation set: ', medae)"
      ]
    },
    {
      "cell_type": "markdown",
      "metadata": {},
      "source": [
        "### Polynomial"
      ]
    },
    {
      "cell_type": "markdown",
      "metadata": {},
      "source": [
        "A polynomial regression model works in a similar way to a linear regression model, but it uses a polynomial function to fit the data instead of a linear function so we can expect it to perform better than the linear regression model (but it will also be more prone to overfitting)."
      ]
    },
    {
      "cell_type": "markdown",
      "metadata": {},
      "source": [
        "##### Degree 2"
      ]
    },
    {
      "cell_type": "code",
      "execution_count": 18,
      "metadata": {},
      "outputs": [
        {
          "name": "stdout",
          "output_type": "stream",
          "text": [
            "MSE Polynomial Regression (Degree 2), validation set:  117.3797615230778\n",
            "MAE Polynomial Regression (Degree 2), validation set:  7.120587343049544\n",
            "MedAE Polynomial Regression (Degree 2), validation set:  4.969689699929177\n"
          ]
        }
      ],
      "source": [
        "from sklearn.preprocessing import PolynomialFeatures\n",
        "from sklearn.pipeline import make_pipeline\n",
        "\n",
        "# Create polynomial features\n",
        "poly_degree = 2\n",
        "polyreg = make_pipeline(PolynomialFeatures(degree=poly_degree), linear_model.LinearRegression())\n",
        "\n",
        "# Fit the polynomial regression model\n",
        "polyreg.fit(X_train, y_train)\n",
        "\n",
        "# Predict outputs for the validation set\n",
        "y_val_pred = polyreg.predict(X_val)\n",
        "\n",
        "# Report metrics in the validation set\n",
        "mse = mean_squared_error(y_val, y_val_pred)\n",
        "mae = mean_absolute_error(y_val, y_val_pred)\n",
        "medae = median_absolute_error(y_val, y_val_pred)\n",
        "print('MSE Polynomial Regression (Degree {}), validation set: '.format(poly_degree), mse)\n",
        "print('MAE Polynomial Regression (Degree {}), validation set: '.format(poly_degree), mae)\n",
        "print('MedAE Polynomial Regression (Degree {}), validation set: '.format(poly_degree), medae)\n"
      ]
    },
    {
      "cell_type": "markdown",
      "metadata": {},
      "source": [
        "The results here are somewhat worse than the linear regression model. We'll try to increase the degree of the polynomial to see if we can get better results (this will of course increase the complexity of the model and therefore the training time)."
      ]
    },
    {
      "cell_type": "markdown",
      "metadata": {},
      "source": [
        "##### Degree 3"
      ]
    },
    {
      "cell_type": "markdown",
      "metadata": {},
      "source": [
        "If we try to increase the degree of the polynomial to 3, we can see that the training time increases significantly and the results are still worse than the linear regression model. Also, the training process causes the program to crash due to memory issues. To avoid this, we'll use PCA to reduce the number of features."
      ]
    },
    {
      "cell_type": "code",
      "execution_count": 38,
      "metadata": {},
      "outputs": [
        {
          "name": "stdout",
          "output_type": "stream",
          "text": [
            "MSE Polynomial Regression (Degree 3), validation set:  26591.416718318516\n",
            "MAE Polynomial Regression (Degree 3), validation set:  30.28147092013889\n",
            "MedAE Polynomial Regression (Degree 3), validation set:  9.65625\n"
          ]
        }
      ],
      "source": [
        "from sklearn.decomposition import PCA\n",
        "from sklearn.pipeline import make_pipeline\n",
        "from sklearn.preprocessing import PolynomialFeatures\n",
        "from sklearn.linear_model import LinearRegression\n",
        "from sklearn.metrics import mean_squared_error, mean_absolute_error, median_absolute_error\n",
        "\n",
        "# Create PCA object with 50 components\n",
        "pca = PCA(n_components=50)\n",
        "\n",
        "# Fit PCA to X_train\n",
        "pca.fit(X_train)\n",
        "\n",
        "print(f\"PCA was fitted to {pca.n_components_} components\")\n",
        "# Transform X_train and X_val using PCA\n",
        "X_train_pca = pca.transform(X_train)\n",
        "X_val_pca = pca.transform(X_val)\n",
        "\n",
        "# Create polynomial features\n",
        "poly_degree = 3\n",
        "polyreg = make_pipeline(PolynomialFeatures(degree=poly_degree), LinearRegression())\n",
        "\n",
        "# Fit the polynomial regression model\n",
        "polyreg.fit(X_train_pca, y_train)\n",
        "\n",
        "# Predict outputs for the validation set\n",
        "y_val_pred = polyreg.predict(X_val_pca)\n",
        "\n",
        "# Report metrics in the validation set\n",
        "mse = mean_squared_error(y_val, y_val_pred)\n",
        "mae = mean_absolute_error(y_val, y_val_pred)\n",
        "medae = median_absolute_error(y_val, y_val_pred)\n",
        "print('MSE Polynomial Regression (Degree {}), validation set: '.format(poly_degree), mse)\n",
        "print('MAE Polynomial Regression (Degree {}), validation set: '.format(poly_degree), mae)\n",
        "print('MedAE Polynomial Regression (Degree {}), validation set: '.format(poly_degree), medae)"
      ]
    },
    {
      "cell_type": "markdown",
      "metadata": {},
      "source": [
        "### Nearest Neighbors"
      ]
    },
    {
      "cell_type": "markdown",
      "metadata": {},
      "source": [
        "Nearest Neighbors is a non-parametric method used for classification and regression. It works by finding the closest training examples in the feature space and using them to predict the value of a new data point."
      ]
    },
    {
      "cell_type": "code",
      "execution_count": 40,
      "metadata": {},
      "outputs": [
        {
          "name": "stdout",
          "output_type": "stream",
          "text": [
            "MSE Nearest Neighbors, validation set:  80.08068444444444\n",
            "MAE Nearest Neighbors, validation set:  6.206622222222225\n",
            "MedAE Nearest Neighbors, validation set:  4.2000000000000455\n"
          ]
        }
      ],
      "source": [
        "from sklearn.neighbors import KNeighborsRegressor\n",
        "# Fit a NN model\n",
        "nn = KNeighborsRegressor(n_neighbors=5)\n",
        "nn.fit(X_train,y_train)\n",
        "\n",
        "# Predict outputs for the validation set\n",
        "y_val_pred = nn.predict(X_val)\n",
        "\n",
        "# Report metrics in the validation set\n",
        "mse = mean_squared_error(y_val, y_val_pred)\n",
        "mae = mean_absolute_error(y_val, y_val_pred)\n",
        "medae = median_absolute_error(y_val, y_val_pred)\n",
        "print('MSE Nearest Neighbors, validation set: ', mse)\n",
        "print('MAE Nearest Neighbors, validation set: ', mae)\n",
        "print('MedAE Nearest Neighbors, validation set: ', medae)"
      ]
    },
    {
      "cell_type": "markdown",
      "metadata": {},
      "source": [
        "### Decision Trees"
      ]
    },
    {
      "cell_type": "markdown",
      "metadata": {},
      "source": [
        "Given that linear models don't seem to work well on this dataset, we'll try to use decision based models to see if we can get better results."
      ]
    },
    {
      "cell_type": "markdown",
      "metadata": {
        "id": "UPHhaXcgIZ5G"
      },
      "source": [
        "#### Trees"
      ]
    },
    {
      "cell_type": "markdown",
      "metadata": {},
      "source": [
        "Decision trees are a non-parametric supervised learning method used for classification and regression. They work by splitting the feature space into smaller and smaller regions until they are able to fit the data."
      ]
    },
    {
      "cell_type": "code",
      "execution_count": 41,
      "metadata": {
        "colab": {
          "base_uri": "https://localhost:8080/",
          "height": 245
        },
        "id": "apZFLaxeIcqA",
        "outputId": "16713a6b-c97e-4b97-f8f6-4d8b49c861ed"
      },
      "outputs": [
        {
          "name": "stdout",
          "output_type": "stream",
          "text": [
            "\n",
            "MSE Decision Tree, validation set:  182.55533333333332\n",
            "MAE Decision Tree, validation set:  9.178888888888888\n",
            "MedAE Decision Tree, validation set:  6.0\n"
          ]
        }
      ],
      "source": [
        "from sklearn.tree import DecisionTreeRegressor\n",
        "\n",
        "decision_tree = DecisionTreeRegressor()\n",
        "decision_tree.fit(X_train, y_train)\n",
        "\n",
        "# Predict outputs for the validation set using Decision Tree\n",
        "y_val_pred_dt = decision_tree.predict(X_val)\n",
        "\n",
        "# Report metrics in the validation set for Decision Tree\n",
        "mse_dt = mean_squared_error(y_val, y_val_pred_dt)\n",
        "mae_dt = mean_absolute_error(y_val, y_val_pred_dt)\n",
        "medae_dt = median_absolute_error(y_val, y_val_pred_dt)\n",
        "print('\\nMSE Decision Tree, validation set: ', mse_dt)\n",
        "print('MAE Decision Tree, validation set: ', mae_dt)\n",
        "print('MedAE Decision Tree, validation set: ', medae_dt)"
      ]
    },
    {
      "cell_type": "markdown",
      "metadata": {
        "id": "wumyXYXUIhym"
      },
      "source": [
        "#### Random Forests"
      ]
    },
    {
      "cell_type": "markdown",
      "metadata": {},
      "source": [
        "Random forests are an ensemble learning method that uses decision trees as base estimators. They work by training a number of decision tree classifiers on various sub-samples of the dataset and using averaging to improve the predictive accuracy and control over-fitting."
      ]
    },
    {
      "cell_type": "code",
      "execution_count": 42,
      "metadata": {
        "colab": {
          "base_uri": "https://localhost:8080/"
        },
        "id": "JEOAtTNqIkyA",
        "outputId": "e2240074-0867-410d-8488-52a313408dec"
      },
      "outputs": [
        {
          "name": "stdout",
          "output_type": "stream",
          "text": [
            "\n",
            "MSE Random Forest, validation set:  84.53189968888886\n",
            "MAE Random Forest, validation set:  6.620573333333333\n",
            "MedAE Random Forest, validation set:  4.834999999999923\n"
          ]
        }
      ],
      "source": [
        "from sklearn.ensemble import RandomForestRegressor\n",
        "\n",
        "random_forest = RandomForestRegressor(n_estimators=100)  # You can adjust the number of trees (n_estimators)\n",
        "random_forest.fit(X_train, y_train)\n",
        "\n",
        "# Predict outputs for the validation set using Random Forest\n",
        "y_val_pred_rf = random_forest.predict(X_val)\n",
        "\n",
        "# Report metrics in the validation set for Random Forest\n",
        "mse_rf = mean_squared_error(y_val, y_val_pred_rf)\n",
        "mae_rf = mean_absolute_error(y_val, y_val_pred_rf)\n",
        "medae_rf = median_absolute_error(y_val, y_val_pred_rf)\n",
        "print('\\nMSE Random Forest, validation set: ', mse_rf)\n",
        "print('MAE Random Forest, validation set: ', mae_rf)\n",
        "print('MedAE Random Forest, validation set: ', medae_rf)"
      ]
    }
  ],
  "metadata": {
    "colab": {
      "provenance": [],
      "toc_visible": true
    },
    "kernelspec": {
      "display_name": "Python 3",
      "name": "python3"
    },
    "language_info": {
      "codemirror_mode": {
        "name": "ipython",
        "version": 3
      },
      "file_extension": ".py",
      "mimetype": "text/x-python",
      "name": "python",
      "nbconvert_exporter": "python",
      "pygments_lexer": "ipython3",
      "version": "3.11.4"
    }
  },
  "nbformat": 4,
  "nbformat_minor": 0
}
